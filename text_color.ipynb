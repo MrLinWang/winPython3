{
 "cells": [
  {
   "cell_type": "markdown",
   "metadata": {},
   "source": [
    "显示颜色格式：\\033[显示方式;字体色;背景色m......\\033[0m"
   ]
  },
  {
   "cell_type": "code",
   "execution_count": 5,
   "metadata": {},
   "outputs": [],
   "source": [
    "#-------------------------------------------\n",
    "#-------------------------------------------\n",
    "#字体色     |       背景色     |      颜色描述\n",
    "#-------------------------------------------\n",
    "#30        |        40       |       黑色\n",
    "#31        |        41       |       红色\n",
    "#32        |        42       |       绿色\n",
    "#33        |        43       |       黃色\n",
    "#34        |        44       |       蓝色\n",
    "#35        |        45       |       紫红色\n",
    "#36        |        46       |       青蓝色\n",
    "#37        |        47       |       白色\n",
    "#-------------------------------------------\n",
    "#-------------------------------\n",
    "#显示方式     |      效果\n",
    "#-------------------------------\n",
    "#0           |     终端默认设置\n",
    "#1           |     高亮显示\n",
    "#4           |     使用下划线\n",
    "#5           |     闪烁\n",
    "#7           |     反白显示\n",
    "#8           |     不可见\n",
    "#-------------------------------"
   ]
  },
  {
   "cell_type": "code",
   "execution_count": 6,
   "metadata": {},
   "outputs": [
    {
     "name": "stdout",
     "output_type": "stream",
     "text": [
      "This is a \u001b[1;35m test \u001b[0m!\n",
      "This is a \u001b[1;32;43m test \u001b[0m!\n",
      "\u001b[1;33;44mThis is a test !\u001b[0m\n"
     ]
    }
   ],
   "source": [
    "print('This is a \\033[1;35m test \\033[0m!')\n",
    "print('This is a \\033[1;32;43m test \\033[0m!')\n",
    "print('\\033[1;33;44mThis is a test !\\033[0m')"
   ]
  },
  {
   "cell_type": "code",
   "execution_count": 21,
   "metadata": {},
   "outputs": [
    {
     "name": "stdout",
     "output_type": "stream",
     "text": [
      "This is a \u001b[1;31m test \u001b[0m!\n"
     ]
    }
   ],
   "source": [
    "print('This is a \\033[1;31m test \\033[0m!')"
   ]
  },
  {
   "cell_type": "code",
   "execution_count": null,
   "metadata": {},
   "outputs": [],
   "source": []
  }
 ],
 "metadata": {
  "kernelspec": {
   "display_name": "Python 3",
   "language": "python",
   "name": "python3"
  },
  "language_info": {
   "codemirror_mode": {
    "name": "ipython",
    "version": 3
   },
   "file_extension": ".py",
   "mimetype": "text/x-python",
   "name": "python",
   "nbconvert_exporter": "python",
   "pygments_lexer": "ipython3",
   "version": "3.6.4"
  }
 },
 "nbformat": 4,
 "nbformat_minor": 2
}
