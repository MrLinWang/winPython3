{
 "cells": [
  {
   "cell_type": "code",
   "execution_count": 1,
   "metadata": {},
   "outputs": [
    {
     "data": {
      "text/plain": [
       "datetime.datetime(2018, 4, 22, 17, 40, 21, 998533)"
      ]
     },
     "execution_count": 1,
     "metadata": {},
     "output_type": "execute_result"
    }
   ],
   "source": [
    "from datetime import datetime\n",
    "now = datetime.now()"
   ]
  },
  {
   "cell_type": "code",
   "execution_count": 2,
   "metadata": {},
   "outputs": [
    {
     "data": {
      "text/plain": [
       "datetime.datetime(2018, 4, 22, 17, 42, 0, 18922)"
      ]
     },
     "execution_count": 2,
     "metadata": {},
     "output_type": "execute_result"
    }
   ],
   "source": [
    "next = datetime.now()\n",
    "next"
   ]
  },
  {
   "cell_type": "code",
   "execution_count": 10,
   "metadata": {},
   "outputs": [
    {
     "data": {
      "text/plain": [
       "datetime.timedelta(0, 98, 20389)"
      ]
     },
     "execution_count": 10,
     "metadata": {},
     "output_type": "execute_result"
    }
   ],
   "source": [
    "sub = next - now\n",
    "sub"
   ]
  },
  {
   "cell_type": "code",
   "execution_count": 17,
   "metadata": {},
   "outputs": [
    {
     "data": {
      "text/plain": [
       "0"
      ]
     },
     "execution_count": 17,
     "metadata": {},
     "output_type": "execute_result"
    }
   ],
   "source": [
    "days =sub.days\n",
    "days"
   ]
  },
  {
   "cell_type": "code",
   "execution_count": 18,
   "metadata": {},
   "outputs": [
    {
     "data": {
      "text/plain": [
       "0"
      ]
     },
     "execution_count": 18,
     "metadata": {},
     "output_type": "execute_result"
    }
   ],
   "source": [
    "hours = sub.seconds//360\n",
    "hours"
   ]
  },
  {
   "cell_type": "code",
   "execution_count": 19,
   "metadata": {},
   "outputs": [
    {
     "data": {
      "text/plain": [
       "1"
      ]
     },
     "execution_count": 19,
     "metadata": {},
     "output_type": "execute_result"
    }
   ],
   "source": [
    "minutes = sub.seconds//60 - hours*60\n",
    "minutes"
   ]
  },
  {
   "cell_type": "code",
   "execution_count": 20,
   "metadata": {},
   "outputs": [
    {
     "data": {
      "text/plain": [
       "38"
      ]
     },
     "execution_count": 20,
     "metadata": {},
     "output_type": "execute_result"
    }
   ],
   "source": [
    "seconds = sub.seconds - minutes*60 - hours*360\n",
    "seconds"
   ]
  },
  {
   "cell_type": "code",
   "execution_count": 15,
   "metadata": {},
   "outputs": [
    {
     "data": {
      "text/plain": [
       "20389"
      ]
     },
     "execution_count": 15,
     "metadata": {},
     "output_type": "execute_result"
    }
   ],
   "source": [
    "sub.microseconds"
   ]
  },
  {
   "cell_type": "code",
   "execution_count": 22,
   "metadata": {},
   "outputs": [
    {
     "name": "stdout",
     "output_type": "stream",
     "text": [
      "Used 0days,  0hours, 1minutes and 38seconds(20389microseconds)\n"
     ]
    }
   ],
   "source": [
    "print(\"Used {:2}hours,{:2}minutes and {:2}seconds({}microseconds)\".format(sub.days,hours,minutes,seconds,sub.microseconds))"
   ]
  },
  {
   "cell_type": "code",
   "execution_count": 4,
   "metadata": {},
   "outputs": [],
   "source": [
    "from datetime import datetime\n",
    "#开始计时函数，返回当前时间\n",
    "def time_begin():\n",
    "    begin = datetime.now()\n",
    "    print(\"\\033[1;31m At first,the time is {:0>2}:{:0>2}:{:0>2}({})\\033[0m\".format(begin.hour,begin.minute,begin.second,begin.microsecond))\n",
    "    return begin\n",
    "#时间终止函数，显示过程使用的时间\n",
    "def time_end(begin):\n",
    "    end = datetime.now()\n",
    "    print(\"\\033[1;31m At this time,the time is {:0>2}:{:0>2}:{:0>2}({})\\033[0m\".format(end.hour,end.minute,end.second,end.microsecond))\n",
    "    sub = end - begin\n",
    "    hours = sub.seconds//360\n",
    "    minutes = sub.seconds//60 - hours*60\n",
    "    seconds = sub.seconds - minutes*60 - hours*360\n",
    "    print(\"\\033[1;31m Used {:0>2}hours,{:0>2}minutes and {:0>2}seconds({}microseconds)\\033[0m\".format(hours,minutes,seconds,sub.microseconds))\n",
    "    return"
   ]
  },
  {
   "cell_type": "code",
   "execution_count": 2,
   "metadata": {},
   "outputs": [
    {
     "name": "stdout",
     "output_type": "stream",
     "text": [
      "\u001b[1;31m At first,the time is 21:06:30(738651)\u001b[0m\n"
     ]
    }
   ],
   "source": [
    "begin = time_begin()"
   ]
  },
  {
   "cell_type": "code",
   "execution_count": 3,
   "metadata": {},
   "outputs": [
    {
     "name": "stdout",
     "output_type": "stream",
     "text": [
      "\u001b[1;31m At this time,the time is 21: 6:32(597065)\u001b[0m\n",
      "\u001b[1;31m Used  0hours, 0minutes and  1seconds(858414microseconds)\u001b[0m\n"
     ]
    }
   ],
   "source": [
    "time_end(begin)"
   ]
  },
  {
   "cell_type": "code",
   "execution_count": null,
   "metadata": {},
   "outputs": [],
   "source": []
  }
 ],
 "metadata": {
  "kernelspec": {
   "display_name": "Python 3",
   "language": "python",
   "name": "python3"
  },
  "language_info": {
   "codemirror_mode": {
    "name": "ipython",
    "version": 3
   },
   "file_extension": ".py",
   "mimetype": "text/x-python",
   "name": "python",
   "nbconvert_exporter": "python",
   "pygments_lexer": "ipython3",
   "version": "3.6.4"
  }
 },
 "nbformat": 4,
 "nbformat_minor": 2
}
