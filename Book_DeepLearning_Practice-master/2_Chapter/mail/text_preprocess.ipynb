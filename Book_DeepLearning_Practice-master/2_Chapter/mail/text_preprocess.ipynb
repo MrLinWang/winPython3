{
 "cells": [
  {
   "cell_type": "code",
   "execution_count": 1,
   "metadata": {},
   "outputs": [
    {
     "ename": "ImportError",
     "evalue": "No module named remove_NOTneed_word",
     "output_type": "error",
     "traceback": [
      "\u001b[1;31m---------------------------------------------------------------------------\u001b[0m",
      "\u001b[1;31mImportError\u001b[0m                               Traceback (most recent call last)",
      "\u001b[1;32m<ipython-input-1-561ba235959a>\u001b[0m in \u001b[0;36m<module>\u001b[1;34m()\u001b[0m\n\u001b[0;32m      1\u001b[0m \u001b[1;33m\u001b[0m\u001b[0m\n\u001b[0;32m      2\u001b[0m \u001b[1;32mimport\u001b[0m \u001b[0mjieba\u001b[0m\u001b[1;33m\u001b[0m\u001b[0m\n\u001b[1;32m----> 3\u001b[1;33m \u001b[1;32mimport\u001b[0m \u001b[0mremove_NOTneed_word\u001b[0m \u001b[1;32mas\u001b[0m \u001b[0mremove\u001b[0m\u001b[1;33m\u001b[0m\u001b[0m\n\u001b[0m\u001b[0;32m      4\u001b[0m \u001b[0mtitle_words\u001b[0m \u001b[1;33m=\u001b[0m \u001b[0mjieba\u001b[0m\u001b[1;33m.\u001b[0m\u001b[0mlcut\u001b[0m\u001b[1;33m(\u001b[0m\u001b[1;34mu'10.1元购家电！iPhone6s-Plus仅4488，海尔热水器699~10亿优惠券狂撒，国庆福利快接着→'\u001b[0m\u001b[1;33m)\u001b[0m\u001b[1;33m\u001b[0m\u001b[0m\n\u001b[0;32m      5\u001b[0m \u001b[0mtemp\u001b[0m \u001b[1;33m=\u001b[0m \u001b[1;34m''\u001b[0m\u001b[1;33m\u001b[0m\u001b[0m\n",
      "\u001b[1;31mImportError\u001b[0m: No module named remove_NOTneed_word"
     ]
    }
   ],
   "source": [
    "#coding=utf8\n",
    "import jieba\n",
    "import remove_NOTneed_word as remove\n",
    "title_words = jieba.lcut(u'10.1元购家电！iPhone6s-Plus仅4488，海尔热水器699~10亿优惠券狂撒，国庆福利快接着→')\n",
    "temp = ''\n",
    "\n",
    "temp,d = remove.delNOTNeedWords(u'10.1元购家电！iPhone6s-Plus仅4488，海尔热水器699~10亿优惠券狂撒，国庆福利快接着→')\n",
    "# for x in title_words:\n",
    "#     print x.encode('utf8')\n",
    "#     temp = temp + x + u'/'\n",
    "print temp"
   ]
  },
  {
   "cell_type": "code",
   "execution_count": null,
   "metadata": {},
   "outputs": [],
   "source": []
  }
 ],
 "metadata": {
  "kernelspec": {
   "display_name": "Python 2",
   "language": "python",
   "name": "python2"
  },
  "language_info": {
   "codemirror_mode": {
    "name": "ipython",
    "version": 2
   },
   "file_extension": ".py",
   "mimetype": "text/x-python",
   "name": "python",
   "nbconvert_exporter": "python",
   "pygments_lexer": "ipython2",
   "version": "2.7.14"
  }
 },
 "nbformat": 4,
 "nbformat_minor": 2
}
