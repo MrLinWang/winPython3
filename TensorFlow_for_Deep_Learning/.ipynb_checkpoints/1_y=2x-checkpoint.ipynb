{
 "cells": [
  {
   "cell_type": "markdown",
   "metadata": {},
   "source": [
    "# 第三章 TensorFlow基本开发步骤————以逻辑回归拟合二维数据为例"
   ]
  },
  {
   "cell_type": "markdown",
   "metadata": {},
   "source": [
    "## 实例一：从一组看似混乱的数据中找出y≈2x的规律"
   ]
  },
  {
   "cell_type": "markdown",
   "metadata": {},
   "source": [
    "### 实例描述"
   ]
  },
  {
   "cell_type": "markdown",
   "metadata": {},
   "source": [
    "假设有一组数据集，其x和y的对应关系是y≈2x  \n",
    "本实例就是让神经网络学习这些样本，并能够找到其中的规律，即让神经网络能够总结出y≈2x这样的公式。  \n",
    "深度学习大概有以下4个步骤：  \n",
    "1.准备数据  \n",
    "2.搭建模型  \n",
    "3.迭代训练  \n",
    "4.使用模型"
   ]
  },
  {
   "cell_type": "markdown",
   "metadata": {},
   "source": [
    "### 3.1.1 准备数据"
   ]
  },
  {
   "cell_type": "markdown",
   "metadata": {},
   "source": [
    "这里使用y=2x这个公式作为主体，通过加入一些干扰噪声让他的“等号”变成“约等于”。  \n",
    "具体代码如下：  "
   ]
  },
  {
   "cell_type": "code",
   "execution_count": 1,
   "metadata": {},
   "outputs": [
    {
     "name": "stderr",
     "output_type": "stream",
     "text": [
      "C:\\Users\\MrLen\\Anaconda3\\lib\\site-packages\\h5py\\__init__.py:36: FutureWarning: Conversion of the second argument of issubdtype from `float` to `np.floating` is deprecated. In future, it will be treated as `np.float64 == np.dtype(float).type`.\n",
      "  from ._conv import register_converters as _register_converters\n"
     ]
    }
   ],
   "source": [
    "#导入头文件，然后生成-1~1之间的100个数作为x\n",
    "import tensorflow as tf\n",
    "import numpy as np\n",
    "import matplotlib.pyplot as plt\n",
    "\n",
    "train_X = np.linspace(-1,1,100)"
   ]
  },
  {
   "cell_type": "code",
   "execution_count": 2,
   "metadata": {},
   "outputs": [],
   "source": [
    "#将x乘以2，再加上一个[-1,1]区间的随机数*0.3。即，y=2*x+a*0.3(a属于[-1,1]之间的随机数)\n",
    "train_Y = 2 * train_X + np.random.randn(*train_X.shape) * 0.3 #y=2x,但是加入了噪声"
   ]
  },
  {
   "cell_type": "markdown",
   "metadata": {},
   "source": [
    "注意：np.random.randn(*train\\_X.shape)这个代码如果看起来比较奇怪,现在给出解释————它等同于np.random.randn(100)"
   ]
  },
  {
   "cell_type": "code",
   "execution_count": 3,
   "metadata": {},
   "outputs": [
    {
     "data": {
      "image/png": "[encoded data removed]",
      "text/plain": [
       "<matplotlib.figure.Figure at 0x1ec70c30710>"
      ]
     },
     "metadata": {},
     "output_type": "display_data"
    }
   ],
   "source": [
    "#显示模拟数据点\n",
    "plt.plot(train_X,train_Y,'ro',label='Original data')\n",
    "plt.legend()\n",
    "plt.show()"
   ]
  },
  {
   "cell_type": "markdown",
   "metadata": {},
   "source": [
    "### 3.1.2 搭建模型"
   ]
  },
  {
   "cell_type": "markdown",
   "metadata": {},
   "source": [
    "现在开始进行模型搭建。模型分为两个方向：正向和反向。"
   ]
  },
  {
   "cell_type": "markdown",
   "metadata": {},
   "source": [
    "#### 1.正向模型搭建 "
   ]
  },
  {
   "cell_type": "markdown",
   "metadata": {},
   "source": [
    "（1）了解模型及其公式  \n",
    "（2）创建模型  \n",
    "下面的代码演示了如何创建模型"
   ]
  },
  {
   "cell_type": "code",
   "execution_count": 4,
   "metadata": {},
   "outputs": [],
   "source": [
    "#创建模型\n",
    "#占位符\n",
    "X = tf.placeholder(\"float\")\n",
    "Y = tf.placeholder(\"float\")\n",
    "#模型参数\n",
    "W = tf.Variable(tf.random_normal([1]),name=\"weight\")\n",
    "b = tf.Variable(tf.zeros([1]),name=\"bias\")\n",
    "#前向结构\n",
    "z = tf.multiply(X,W) + b"
   ]
  },
  {
   "cell_type": "markdown",
   "metadata": {},
   "source": [
    "1.X和Y：为占位符，使用了placeholder函数进行定义。一个代表x的输入，一个代表对应的真实值y。  \n",
    "2.W和b：为参数。W被初始化成[-1,1]的随机数，形状为一维的数字，b的初始化为0，形状也是一维的数字。  \n",
    "3.Vaeiable：定义变量。  \n",
    "4.tf.multiply：是两个数相乘的意思，结果再加上b就等于z了。"
   ]
  },
  {
   "cell_type": "markdown",
   "metadata": {},
   "source": [
    "#### 2.反向搭建模型"
   ]
  },
  {
   "cell_type": "markdown",
   "metadata": {},
   "source": [
    "神经网络在训练的过程中数据的流向有两个方向，即想通过正向生成一个值，然后观察其与真实值的差距，再通过反向过程将里面的参数进行调整，接着再次正向生成预测值并与真实值进行比对，这样循环下去，直到将参数调整为合适值为止。  \n",
    "正向相对比较好理解，反向传播会引入一些算法来实现对参数的正确调整。  \n",
    "下面先看一下反向优化的相关代码。"
   ]
  },
  {
   "cell_type": "code",
   "execution_count": 5,
   "metadata": {},
   "outputs": [],
   "source": [
    "#反向优化\n",
    "#定义一个cost，它等于生成值与真实值的平方差\n",
    "cost = tf.reduce_mean(tf.square(Y - z))\n",
    "#定义一个学习率，代表调整参数的速度\n",
    "learning_rate = 0.01\n",
    "\n",
    "optimizer = tf.train.GradientDescentOptimizer(learning_rate).minimize(cost)  #梯度下降"
   ]
  },
  {
   "cell_type": "markdown",
   "metadata": {},
   "source": [
    "学习率一般是小于1的。这个值越大，表明调整的速度越大，但不精确；值越小，表明调整的精度越高，但速度慢。  \n",
    "GradientDescentOptimizer函数是一个封装好的梯度下降算法，里面的参数learning_rate叫做学习率，用来指定参数调节的速度。"
   ]
  },
  {
   "cell_type": "markdown",
   "metadata": {},
   "source": [
    "### 3.1.3 迭代训练模型 "
   ]
  },
  {
   "cell_type": "markdown",
   "metadata": {},
   "source": [
    "迭代训练的代码分成两步来完成："
   ]
  },
  {
   "cell_type": "markdown",
   "metadata": {},
   "source": [
    "#### 1.训练模型"
   ]
  },
  {
   "cell_type": "markdown",
   "metadata": {},
   "source": [
    "建立好模型后，可以通过迭代来训练模型了。TensorFlow中的任务是通过session来进行的。  \n",
    "下面的代码中，先进行全局初始化，然后设置训练迭代的次数，启动session开始运行任务。"
   ]
  },
  {
   "cell_type": "code",
   "execution_count": null,
   "metadata": {},
   "outputs": [],
   "source": [
    "#初始化所有变量\n",
    "init = tf.global_variables_initializer()\n",
    "#定义参数\n",
    "training_epochs = 20\n",
    "display_step = 2\n",
    "\n",
    "#启动session\n",
    "with tf.Session() as sess:\n",
    "    sess.run(init)\n",
    "    plotdata={\"batchsize\":[],\"loss\":[]}\n",
    "    #向模型输入数据\n",
    "    for epoch in range(training_epochs):\n",
    "        for (x,y) in zip(train_X,train_Y):\n",
    "            sess.run(optimizer,feed_dict={X:x,Y:y})\n",
    "        \n",
    "        #显示训练中的详细信息\n",
    "        if epoch % display_step == 0:\n",
    "            loss = sess.run(cost,feed_dict={X:train_X,Y:train_Y})\n",
    "            print(\"Epoch:\",epoch+1,\"cost=\",loss,\"W=\",sess.run(W),\"b=\",sess.run(b))\n",
    "            if not (loss == \"NA\"):\n",
    "                plotdata[\"batchsize\"].append(epoch)\n",
    "                plotdata[\"loss\"].append(loss)\n",
    "    \n",
    "    print(\" Finished!\")\n",
    "    print(\"cost=\",sess.run(cost,feed_dict={X:train_X,Y:train_Y}),\"W=\",sess.run(W),\"b=\",sess.run(b))"
   ]
  },
  {
   "cell_type": "markdown",
   "metadata": {},
   "source": [
    "上面的代码中迭代次数设置为10次，通过sess.run来进行网络节点的运算，通过feed机制将真实数据灌到占位符对应的位置（feed_dict={X:x,Y:y}），同时，每执行一次都会将网络结构中的节点打印出来。  \n",
    "可以看出，cost的值在不断的变小，w和b的值也在不断的调整。"
   ]
  },
  {
   "cell_type": "markdown",
   "metadata": {},
   "source": [
    "#### 2.训练模型可视化 "
   ]
  },
  {
   "cell_type": "markdown",
   "metadata": {},
   "source": [
    "上面的数值信息理解起来还是比较抽象。为了可以得到更直观的表达，下面将模型中的两个信息可视化出来，一个是生成的模型，另一个是训练中的状态值。  \n",
    "具体代码如下："
   ]
  },
  {
   "cell_type": "code",
   "execution_count": null,
   "metadata": {},
   "outputs": [],
   "source": [
    "#图形显示\n",
    "plt.plot(train_X,train_Y,'ro',label='Original data')\n",
    "plt.plot(train_X,sess.run(W) * train_X + sess.run(b),label='Fittedline')\n",
    "plt.legend()\n",
    "plt.show()\n",
    "\n",
    "plotdata[\"avgloss\"] = moving_average(plotdata[\"loss\"])\n",
    "plt.figure(1)\n",
    "plt.subplot(211)\n",
    "plt.plot(plotdata[\"batchsize\"],plotdata[\"avgloss\"],'b--')\n",
    "plt.xlabel('Minibatch number')\n",
    "plt.ylabel('Loss')\n",
    "plt.title('Minibatch run vs. Training loss')\n",
    "\n",
    "plt.show()"
   ]
  },
  {
   "cell_type": "markdown",
   "metadata": {},
   "source": [
    "这段代码中引入了一个变量和一个函数，可以在代码的最顶端定义他们，见如下代码："
   ]
  },
  {
   "cell_type": "code",
   "execution_count": null,
   "metadata": {},
   "outputs": [],
   "source": [
    "plotdata = {\"batchsize\":[],\"loss\":[]}\n",
    "def moving_average(a,w=10):\n",
    "    if len(a) < w:\n",
    "        return a[:]\n",
    "    return [val if idx < w else sum(a[(idx-w):idx])/w for idx,val in enumerate(a)]"
   ]
  },
  {
   "cell_type": "markdown",
   "metadata": {},
   "source": [
    "### 3.1.4 使用模型"
   ]
  },
  {
   "cell_type": "markdown",
   "metadata": {},
   "source": [
    "模型训练好后，用起来就比较容易了，往里面传一个0.2（通过feed_dict={X：0.2}），然后使用sess.run来运行模型中的z节点，见如下代码，看看他生成的值。"
   ]
  },
  {
   "cell_type": "code",
   "execution_count": null,
   "metadata": {},
   "outputs": [],
   "source": [
    "print(\"x=0.2,z=\",sess.run(z,feed_dict={X:0.2}))"
   ]
  },
  {
   "cell_type": "markdown",
   "metadata": {},
   "source": [
    "### 综合以上代码，直接运行观察结果"
   ]
  },
  {
   "cell_type": "code",
   "execution_count": 6,
   "metadata": {},
   "outputs": [
    {
     "name": "stdout",
     "output_type": "stream",
     "text": [
      "Epoch: 1 cost= 1.1315815 W= [0.4363534] b= [0.45290375]\n",
      "Epoch: 3 cost= 0.14482926 W= [1.5939244] b= [0.14139359]\n",
      "Epoch: 5 cost= 0.063816845 W= [1.9076723] b= [0.02322741]\n",
      "Epoch: 7 cost= 0.058288347 W= [1.9890401] b= [-0.00795943]\n",
      "Epoch: 9 cost= 0.05790797 W= [2.010084] b= [-0.01603412]\n",
      "Epoch: 11 cost= 0.057879843 W= [2.0155256] b= [-0.01812232]\n",
      "Epoch: 13 cost= 0.057877265 W= [2.0169318] b= [-0.01866204]\n",
      "Epoch: 15 cost= 0.057876915 W= [2.0172954] b= [-0.01880172]\n",
      "Epoch: 17 cost= 0.057876844 W= [2.0173888] b= [-0.01883741]\n",
      "Epoch: 19 cost= 0.05787683 W= [2.0174139] b= [-0.01884694]\n",
      " Finished!\n",
      "cost= 0.05787683 W= [2.0174167] b= [-0.01884823]\n"
     ]
    },
    {
     "data": {
      "image/png": "[encoded data removed]",
      "text/plain": [
       "<matplotlib.figure.Figure at 0x1ec72df5a20>"
      ]
     },
     "metadata": {},
     "output_type": "display_data"
    },
    {
     "data": {
      "image/png": "[encoded data removed]",
      "text/plain": [
       "<matplotlib.figure.Figure at 0x1ec72df2438>"
      ]
     },
     "metadata": {},
     "output_type": "display_data"
    },
    {
     "name": "stdout",
     "output_type": "stream",
     "text": [
      "x=0.2,z= [0.38463515]\n"
     ]
    }
   ],
   "source": [
    "plotdata = {\"batchsize\":[],\"loss\":[]}\n",
    "def moving_average(a,w=10):\n",
    "    if len(a) < w:\n",
    "        return a[:]\n",
    "    return [val if idx < w else sum(a[(idx-w):idx])/w for idx,val in enumerate(a)]\n",
    "#初始化所有变量\n",
    "init = tf.global_variables_initializer()\n",
    "#定义参数\n",
    "training_epochs = 20\n",
    "display_step = 2\n",
    "\n",
    "#启动session\n",
    "with tf.Session() as sess:\n",
    "    sess.run(init)\n",
    "    plotdata={\"batchsize\":[],\"loss\":[]}\n",
    "    #向模型输入数据\n",
    "    for epoch in range(training_epochs):\n",
    "        for (x,y) in zip(train_X,train_Y):\n",
    "            sess.run(optimizer,feed_dict={X:x,Y:y})\n",
    "        \n",
    "        #显示训练中的详细信息\n",
    "        if epoch % display_step == 0:\n",
    "            loss = sess.run(cost,feed_dict={X:train_X,Y:train_Y})\n",
    "            print(\"Epoch:\",epoch+1,\"cost=\",loss,\"W=\",sess.run(W),\"b=\",sess.run(b))\n",
    "            if not (loss == \"NA\"):\n",
    "                plotdata[\"batchsize\"].append(epoch)\n",
    "                plotdata[\"loss\"].append(loss)\n",
    "    \n",
    "    print(\" Finished!\")\n",
    "    print(\"cost=\",sess.run(cost,feed_dict={X:train_X,Y:train_Y}),\"W=\",sess.run(W),\"b=\",sess.run(b))\n",
    "    #图形显示\n",
    "    plt.plot(train_X,train_Y,'ro',label='Original data')\n",
    "    plt.plot(train_X,sess.run(W) * train_X + sess.run(b),label='Fittedline')\n",
    "    plt.legend()\n",
    "    plt.show()\n",
    "\n",
    "    plotdata[\"avgloss\"] = moving_average(plotdata[\"loss\"])\n",
    "    plt.figure(1)\n",
    "    plt.subplot(211)\n",
    "    plt.plot(plotdata[\"batchsize\"],plotdata[\"avgloss\"],'b--')\n",
    "    plt.xlabel('Minibatch number')\n",
    "    plt.ylabel('Loss')\n",
    "    plt.title('Minibatch run vs. Training loss')\n",
    "\n",
    "    plt.show()\n",
    "    \n",
    "    print(\"x=0.2,z=\",sess.run(z,feed_dict={X:0.2}))"
   ]
  },
  {
   "cell_type": "code",
   "execution_count": null,
   "metadata": {},
   "outputs": [],
   "source": []
  }
 ],
 "metadata": {
  "kernelspec": {
   "display_name": "Python 3",
   "language": "python",
   "name": "python3"
  },
  "language_info": {
   "codemirror_mode": {
    "name": "ipython",
    "version": 3
   },
   "file_extension": ".py",
   "mimetype": "text/x-python",
   "name": "python",
   "nbconvert_exporter": "python",
   "pygments_lexer": "ipython3",
   "version": "3.6.4"
  }
 },
 "nbformat": 4,
 "nbformat_minor": 2
}
